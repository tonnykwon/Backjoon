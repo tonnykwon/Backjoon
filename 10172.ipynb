{
 "cells": [
  {
   "cell_type": "code",
   "execution_count": null,
   "metadata": {
    "scrolled": true
   },
   "outputs": [],
   "source": [
    "print(\"|\\_/|\"+\"\\n\"+ \"|q p|   /}\"\n",
    "      +\"\\n\"+\"( 0 )\\\"\\\"\\\"\\\\\"\n",
    "     +\"\\n\"+\"|\\\"^\\\"`    |\"\n",
    "     +\"\\n\"+\"||_/=\\\\\\\\__|\")"
   ]
  },
  {
   "cell_type": "code",
   "execution_count": 2,
   "metadata": {},
   "outputs": [
    {
     "name": "stdout",
     "output_type": "stream",
     "text": [
      "abcd i\n",
      "hello:\n",
      "\n"
     ]
    }
   ],
   "source": [
    "data = []\n",
    "while True:\n",
    "    line = input()\n",
    "    if(line==\"\"):\n",
    "        break;\n",
    "    else:\n",
    "        data.append(line)\n",
    "\n",
    "for line in data:\n",
    "    print(line)"
   ]
  }
 ],
 "metadata": {
  "kernelspec": {
   "display_name": "Python 3",
   "language": "python",
   "name": "python3"
  },
  "language_info": {
   "codemirror_mode": {
    "name": "ipython",
    "version": 3
   },
   "file_extension": ".py",
   "mimetype": "text/x-python",
   "name": "python",
   "nbconvert_exporter": "python",
   "pygments_lexer": "ipython3",
   "version": "3.6.4"
  }
 },
 "nbformat": 4,
 "nbformat_minor": 2
}
